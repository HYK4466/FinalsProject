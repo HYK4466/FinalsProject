{
  "cells": [
    {
      "cell_type": "raw",
      "id": "c3ec1d8c-f8f1-4231-8917-fafb2ad55d8b",
      "metadata": {
        "id": "c3ec1d8c-f8f1-4231-8917-fafb2ad55d8b"
      },
      "source": [
        "권혁 2021147608\n",
        "기계학습 기말과제\n",
        "당뇨병 예측\n",
        "2022년 12월 06일"
      ]
    },
    {
      "cell_type": "code",
      "execution_count": null,
      "id": "e584140c-c3c4-4e11-b58e-2a35f475167c",
      "metadata": {
        "id": "e584140c-c3c4-4e11-b58e-2a35f475167c"
      },
      "outputs": [],
      "source": [
        "import pandas as pd\n",
        "df = pd.read_csv(\"diabetes.csv\") #https://www.kaggle.com/datasets/akshaydattatraykhare/diabetes-dataset"
      ]
    },
    {
      "cell_type": "code",
      "execution_count": null,
      "id": "f197f3d4-410a-4f6d-9b7d-0b34864d1089",
      "metadata": {
        "id": "f197f3d4-410a-4f6d-9b7d-0b34864d1089",
        "outputId": "c2c818b3-fb98-482a-fa85-9338931cd383"
      },
      "outputs": [
        {
          "data": {
            "text/html": [
              "<div>\n",
              "<style scoped>\n",
              "    .dataframe tbody tr th:only-of-type {\n",
              "        vertical-align: middle;\n",
              "    }\n",
              "\n",
              "    .dataframe tbody tr th {\n",
              "        vertical-align: top;\n",
              "    }\n",
              "\n",
              "    .dataframe thead th {\n",
              "        text-align: right;\n",
              "    }\n",
              "</style>\n",
              "<table border=\"1\" class=\"dataframe\">\n",
              "  <thead>\n",
              "    <tr style=\"text-align: right;\">\n",
              "      <th></th>\n",
              "      <th>Pregnancies</th>\n",
              "      <th>Glucose</th>\n",
              "      <th>BloodPressure</th>\n",
              "      <th>SkinThickness</th>\n",
              "      <th>Insulin</th>\n",
              "      <th>BMI</th>\n",
              "      <th>DiabetesPedigreeFunction</th>\n",
              "      <th>Age</th>\n",
              "      <th>Outcome</th>\n",
              "    </tr>\n",
              "  </thead>\n",
              "  <tbody>\n",
              "    <tr>\n",
              "      <th>0</th>\n",
              "      <td>6</td>\n",
              "      <td>148</td>\n",
              "      <td>72</td>\n",
              "      <td>35</td>\n",
              "      <td>0</td>\n",
              "      <td>33.6</td>\n",
              "      <td>0.627</td>\n",
              "      <td>50</td>\n",
              "      <td>1</td>\n",
              "    </tr>\n",
              "    <tr>\n",
              "      <th>1</th>\n",
              "      <td>1</td>\n",
              "      <td>85</td>\n",
              "      <td>66</td>\n",
              "      <td>29</td>\n",
              "      <td>0</td>\n",
              "      <td>26.6</td>\n",
              "      <td>0.351</td>\n",
              "      <td>31</td>\n",
              "      <td>0</td>\n",
              "    </tr>\n",
              "    <tr>\n",
              "      <th>2</th>\n",
              "      <td>8</td>\n",
              "      <td>183</td>\n",
              "      <td>64</td>\n",
              "      <td>0</td>\n",
              "      <td>0</td>\n",
              "      <td>23.3</td>\n",
              "      <td>0.672</td>\n",
              "      <td>32</td>\n",
              "      <td>1</td>\n",
              "    </tr>\n",
              "    <tr>\n",
              "      <th>3</th>\n",
              "      <td>1</td>\n",
              "      <td>89</td>\n",
              "      <td>66</td>\n",
              "      <td>23</td>\n",
              "      <td>94</td>\n",
              "      <td>28.1</td>\n",
              "      <td>0.167</td>\n",
              "      <td>21</td>\n",
              "      <td>0</td>\n",
              "    </tr>\n",
              "    <tr>\n",
              "      <th>4</th>\n",
              "      <td>0</td>\n",
              "      <td>137</td>\n",
              "      <td>40</td>\n",
              "      <td>35</td>\n",
              "      <td>168</td>\n",
              "      <td>43.1</td>\n",
              "      <td>2.288</td>\n",
              "      <td>33</td>\n",
              "      <td>1</td>\n",
              "    </tr>\n",
              "  </tbody>\n",
              "</table>\n",
              "</div>"
            ],
            "text/plain": [
              "   Pregnancies  Glucose  BloodPressure  SkinThickness  Insulin   BMI  \\\n",
              "0            6      148             72             35        0  33.6   \n",
              "1            1       85             66             29        0  26.6   \n",
              "2            8      183             64              0        0  23.3   \n",
              "3            1       89             66             23       94  28.1   \n",
              "4            0      137             40             35      168  43.1   \n",
              "\n",
              "   DiabetesPedigreeFunction  Age  Outcome  \n",
              "0                     0.627   50        1  \n",
              "1                     0.351   31        0  \n",
              "2                     0.672   32        1  \n",
              "3                     0.167   21        0  \n",
              "4                     2.288   33        1  "
            ]
          },
          "execution_count": 166,
          "metadata": {},
          "output_type": "execute_result"
        }
      ],
      "source": [
        "df.head()"
      ]
    },
    {
      "cell_type": "code",
      "execution_count": null,
      "id": "ee1b0622-ad35-4d02-9165-5e4c96e05df1",
      "metadata": {
        "id": "ee1b0622-ad35-4d02-9165-5e4c96e05df1"
      },
      "outputs": [],
      "source": [
        "import torch\n",
        "from torch.utils.data import Dataset\n",
        "from torchvision import datasets\n",
        "from torchvision.transforms import ToTensor\n",
        "import matplotlib.pyplot as plt\n",
        "import torch\n",
        "import torchvision\n",
        "from torch.utils.data import Dataset, DataLoader\n",
        "import numpy as np\n",
        "import math\n",
        "import torch.nn as nn"
      ]
    },
    {
      "cell_type": "code",
      "execution_count": null,
      "id": "60278da8-270d-4fee-b3b3-bf9c06cc49fc",
      "metadata": {
        "id": "60278da8-270d-4fee-b3b3-bf9c06cc49fc"
      },
      "outputs": [],
      "source": [
        "class HDDataset(Dataset):\n",
        "\n",
        "    def __init__(self):\n",
        "        xy = np.loadtxt('diabetes.csv', delimiter=',', dtype=np.float32, skiprows=1)\n",
        "\n",
        "        self.n_samples = xy.shape[0]\n",
        "\n",
        "        self.x_data = torch.from_numpy(xy[:, 0:-1])\n",
        "        self.y_data = torch.from_numpy(xy[:, 8])\n",
        "\n",
        "    def __getitem__(self, index):\n",
        "        return self.x_data[index], self.y_data[index]\n",
        "\n",
        "    def __len__(self):\n",
        "        return self.n_samples"
      ]
    },
    {
      "cell_type": "code",
      "execution_count": null,
      "id": "096d3313-7d33-4bd0-90ef-18ca70dfb3f4",
      "metadata": {
        "id": "096d3313-7d33-4bd0-90ef-18ca70dfb3f4"
      },
      "outputs": [],
      "source": [
        "dataset = HDDataset()\n",
        "train_size = int(0.8 * len(dataset))\n",
        "test_size = len(dataset) - train_size\n",
        "train_dataset, test_dataset = torch.utils.data.random_split(dataset, [train_size, test_size])\n",
        "train_dataloader = DataLoader(train_dataset, batch_size=64, shuffle=True)\n",
        "test_dataloader = DataLoader(test_dataset, batch_size=10, shuffle=True)"
      ]
    },
    {
      "cell_type": "code",
      "execution_count": null,
      "id": "ade6d8df-6a4e-47db-a7af-58615b971bde",
      "metadata": {
        "id": "ade6d8df-6a4e-47db-a7af-58615b971bde"
      },
      "outputs": [],
      "source": [
        "class LNeuralNet(nn.Module):\n",
        "    def __init__(self, input_size, hidden_size):\n",
        "        super(LNeuralNet, self).__init__()\n",
        "        self.linear1 = nn.Linear(input_size, hidden_size)\n",
        "        self.relu = nn.ReLU()\n",
        "        self.linear3 = nn.Linear(hidden_size, 10)\n",
        "        self.linear4 = nn.Linear(10, 5)\n",
        "\n",
        "        self.linear2 = nn.Linear(5, 1)\n",
        "\n",
        "    def forward(self, x):\n",
        "        out = self.linear1(x)\n",
        "        out = self.relu(out)\n",
        "        out = self.linear3(out)\n",
        "        out = self.relu(out)\n",
        "        out = self.linear4(out)\n",
        "        out = self.relu(out)\n",
        "        out = self.linear2(out)\n",
        "        y_pred = torch.sigmoid(out)\n",
        "        return y_pred"
      ]
    },
    {
      "cell_type": "code",
      "execution_count": null,
      "id": "e3d3c9ce-ed25-4676-8e99-1d53841556cb",
      "metadata": {
        "id": "e3d3c9ce-ed25-4676-8e99-1d53841556cb"
      },
      "outputs": [],
      "source": [
        "def train(model, dataloader, loss_fn, optimizer):\n",
        "    num_epochs = 50\n",
        "    n_total_steps = len(dataloader)\n",
        "\n",
        "    for epoch in range(num_epochs):\n",
        "        for i, (images, labels) in enumerate(dataloader):\n",
        "            # Forward pass\n",
        "            y_pred = model(images)\n",
        "            # print(y_pred)\n",
        "            # print(labels)\n",
        "            loss = loss_fn(y_pred, labels.unsqueeze(1))\n",
        "\n",
        "            # Backward and optimize\n",
        "            optimizer.zero_grad()\n",
        "            loss.backward()\n",
        "            optimizer.step()\n",
        "\n",
        "            if (i+1) % 10 == 0:\n",
        "                print (f'Epoch [{epoch+1}/{num_epochs}], Step [{i+1}/{n_total_steps}], Loss: {loss.item():.4f}')"
      ]
    },
    {
      "cell_type": "code",
      "execution_count": null,
      "id": "22375980-383b-45f7-865e-b0bd33599c50",
      "metadata": {
        "id": "22375980-383b-45f7-865e-b0bd33599c50"
      },
      "outputs": [],
      "source": [
        "def test(model, dataloader):\n",
        "    with torch.no_grad():\n",
        "        n_correct = 0\n",
        "        n_samples = 0\n",
        "        for images, labels in dataloader:\n",
        "            labels = labels\n",
        "            outputs = model(images)\n",
        "            predicted = torch.round(outputs.data)\n",
        "            # print(labels)\n",
        "            # print(outputs)\n",
        "            # print(predicted)\n",
        "            n_samples += labels.size(0)\n",
        "            for i in range(0, labels.size(0)):\n",
        "                if (labels[i].item() == predicted[i, :].item()):\n",
        "                    n_correct += 1\n",
        "\n",
        "        acc = 100.0 * n_correct / n_samples\n",
        "        print(f'Accuracy of the network on the test data: {acc} %')"
      ]
    },
    {
      "cell_type": "code",
      "execution_count": null,
      "id": "20d93120-eaea-42b0-b5db-32a0cbbe349a",
      "metadata": {
        "id": "20d93120-eaea-42b0-b5db-32a0cbbe349a"
      },
      "outputs": [],
      "source": [
        "model = LNeuralNet(8, 25)\n",
        "loss_fn = nn.BCELoss()\n",
        "optimizer = torch.optim.SGD(model.parameters(), lr=0.01)"
      ]
    },
    {
      "cell_type": "code",
      "execution_count": null,
      "id": "7b6d91e7-ff82-4eb6-8cbf-00b8b091d7c9",
      "metadata": {
        "id": "7b6d91e7-ff82-4eb6-8cbf-00b8b091d7c9",
        "outputId": "df7e7b39-0d33-4ee4-b6f9-4168e1e5449d"
      },
      "outputs": [
        {
          "name": "stdout",
          "output_type": "stream",
          "text": [
            "Epoch [1/50], Step [10/10], Loss: 0.4931\n",
            "Epoch [2/50], Step [10/10], Loss: 0.5527\n",
            "Epoch [3/50], Step [10/10], Loss: 0.5843\n",
            "Epoch [4/50], Step [10/10], Loss: 0.6515\n",
            "Epoch [5/50], Step [10/10], Loss: 0.5519\n",
            "Epoch [6/50], Step [10/10], Loss: 0.5886\n",
            "Epoch [7/50], Step [10/10], Loss: 0.5125\n",
            "Epoch [8/50], Step [10/10], Loss: 0.6241\n",
            "Epoch [9/50], Step [10/10], Loss: 0.5578\n",
            "Epoch [10/50], Step [10/10], Loss: 0.5026\n",
            "Epoch [11/50], Step [10/10], Loss: 0.6798\n",
            "Epoch [12/50], Step [10/10], Loss: 0.5110\n",
            "Epoch [13/50], Step [10/10], Loss: 0.6735\n",
            "Epoch [14/50], Step [10/10], Loss: 0.7097\n",
            "Epoch [15/50], Step [10/10], Loss: 0.4953\n",
            "Epoch [16/50], Step [10/10], Loss: 0.6028\n",
            "Epoch [17/50], Step [10/10], Loss: 0.5476\n",
            "Epoch [18/50], Step [10/10], Loss: 0.5646\n",
            "Epoch [19/50], Step [10/10], Loss: 0.6343\n",
            "Epoch [20/50], Step [10/10], Loss: 0.6419\n",
            "Epoch [21/50], Step [10/10], Loss: 0.6972\n",
            "Epoch [22/50], Step [10/10], Loss: 0.5334\n",
            "Epoch [23/50], Step [10/10], Loss: 0.6010\n",
            "Epoch [24/50], Step [10/10], Loss: 0.5207\n",
            "Epoch [25/50], Step [10/10], Loss: 0.6047\n",
            "Epoch [26/50], Step [10/10], Loss: 0.6455\n",
            "Epoch [27/50], Step [10/10], Loss: 0.5843\n",
            "Epoch [28/50], Step [10/10], Loss: 0.5588\n",
            "Epoch [29/50], Step [10/10], Loss: 0.5085\n",
            "Epoch [30/50], Step [10/10], Loss: 0.7059\n",
            "Epoch [31/50], Step [10/10], Loss: 0.5737\n",
            "Epoch [32/50], Step [10/10], Loss: 0.5735\n",
            "Epoch [33/50], Step [10/10], Loss: 0.6874\n",
            "Epoch [34/50], Step [10/10], Loss: 0.5809\n",
            "Epoch [35/50], Step [10/10], Loss: 0.6326\n",
            "Epoch [36/50], Step [10/10], Loss: 0.4391\n",
            "Epoch [37/50], Step [10/10], Loss: 0.6313\n",
            "Epoch [38/50], Step [10/10], Loss: 0.7487\n",
            "Epoch [39/50], Step [10/10], Loss: 0.4158\n",
            "Epoch [40/50], Step [10/10], Loss: 0.5689\n",
            "Epoch [41/50], Step [10/10], Loss: 0.6552\n",
            "Epoch [42/50], Step [10/10], Loss: 0.5790\n",
            "Epoch [43/50], Step [10/10], Loss: 0.6051\n",
            "Epoch [44/50], Step [10/10], Loss: 0.6127\n",
            "Epoch [45/50], Step [10/10], Loss: 0.4868\n",
            "Epoch [46/50], Step [10/10], Loss: 0.5608\n",
            "Epoch [47/50], Step [10/10], Loss: 0.4780\n",
            "Epoch [48/50], Step [10/10], Loss: 0.6810\n",
            "Epoch [49/50], Step [10/10], Loss: 0.6739\n",
            "Epoch [50/50], Step [10/10], Loss: 0.6103\n"
          ]
        }
      ],
      "source": [
        "train(model, train_dataloader, loss_fn, optimizer)"
      ]
    },
    {
      "cell_type": "code",
      "execution_count": null,
      "id": "d1141c2e-00f5-4cf2-a9b7-e2420ace2c1d",
      "metadata": {
        "id": "d1141c2e-00f5-4cf2-a9b7-e2420ace2c1d",
        "outputId": "516e5ab8-9af4-451b-9132-281d90f26216"
      },
      "outputs": [
        {
          "name": "stdout",
          "output_type": "stream",
          "text": [
            "Accuracy of the network on the test data: 79.87012987012987 %\n"
          ]
        }
      ],
      "source": [
        "test(model, test_dataloader)"
      ]
    },
    {
      "cell_type": "code",
      "execution_count": null,
      "id": "63e33dd7-c71f-4fb1-84fb-8c1663e3a60a",
      "metadata": {
        "id": "63e33dd7-c71f-4fb1-84fb-8c1663e3a60a",
        "outputId": "f0c4e11c-17df-4ff7-e1d5-cd991127a819"
      },
      "outputs": [
        {
          "data": {
            "text/plain": [
              "<All keys matched successfully>"
            ]
          },
          "execution_count": 168,
          "metadata": {},
          "output_type": "execute_result"
        }
      ],
      "source": [
        "def save(model):\n",
        "    torch.save(model.state_dict(), 'model.pth')\n",
        "\n",
        "save(model)\n",
        "loaded_model = LNeuralNet(8, 25)\n",
        "loaded_model.load_state_dict(torch.load('model.pth'))"
      ]
    },
    {
      "cell_type": "code",
      "execution_count": null,
      "id": "37fd176f-16be-4981-bab5-051862663914",
      "metadata": {
        "id": "37fd176f-16be-4981-bab5-051862663914",
        "outputId": "4afc9ab8-bbcd-49fc-9f13-a6cf19511b94"
      },
      "outputs": [
        {
          "name": "stdout",
          "output_type": "stream",
          "text": [
            "Accuracy of the network on the test data: 79.87012987012987 %\n"
          ]
        }
      ],
      "source": [
        "test(loaded_model, test_dataloader)"
      ]
    },
    {
      "cell_type": "code",
      "execution_count": null,
      "id": "af3cff49-9c09-4650-9230-c60f53aec76a",
      "metadata": {
        "id": "af3cff49-9c09-4650-9230-c60f53aec76a"
      },
      "outputs": [],
      "source": []
    }
  ],
  "metadata": {
    "kernelspec": {
      "display_name": "Python 3 (ipykernel)",
      "language": "python",
      "name": "python3"
    },
    "language_info": {
      "codemirror_mode": {
        "name": "ipython",
        "version": 3
      },
      "file_extension": ".py",
      "mimetype": "text/x-python",
      "name": "python",
      "nbconvert_exporter": "python",
      "pygments_lexer": "ipython3",
      "version": "3.9.12"
    },
    "colab": {
      "provenance": []
    }
  },
  "nbformat": 4,
  "nbformat_minor": 5
}